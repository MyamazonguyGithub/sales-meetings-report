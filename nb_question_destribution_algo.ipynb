{
 "cells": [
  {
   "cell_type": "markdown",
   "metadata": {},
   "source": [
    "# Question Frequency and Distribution Metrics\n",
    "\n",
    "## **Introduction**\n",
    "\n",
    "This notebook aims to analyze sales call transcripts to extract key metrics that help assess salesperson performance and customer engagement. The metrics calculated include:\n",
    "\n",
    "1. **Total Number of Questions**\n",
    "2. **Questions per Minute**\n",
    "3. **First Question Timing**\n",
    "4. **Normalized Entropy**\n",
    "5. **Gini Coefficient**\n",
    "6. **Customer Talk Ratio**\n",
    "7. **Average Time Between Questions (Normalized)**\n",
    "\n",
    "These metrics provide insights into the frequency and distribution of questions asked by the salesperson, as well as the balance of conversation between the salesperson and the customer.\n",
    "\n",
    "---"
   ]
  },
  {
   "cell_type": "markdown",
   "metadata": {},
   "source": [
    "## **1. Data Preparation**\n",
    "\n",
    "First, we'll install the transformers, import the necessary libraries, and load the transcript data into a pandas DataFrame.\n",
    "\n",
    "### **Installation and Imports**"
   ]
  },
  {
   "cell_type": "code",
   "execution_count": null,
   "metadata": {},
   "outputs": [],
   "source": [
    "# Install models and ML framework\n",
    "! pip install transformers datasets torch\n",
    "\n",
    "# Install data manipulation and visualization tools\n",
    "! pip install pandas matplotlib\n",
    "\n",
    "import pandas as pd\n",
    "import numpy as np\n",
    "from transformers import AutoTokenizer, AutoModelForSequenceClassification, pipeline\n",
    "\n",
    "# Load the tokenizer and model\n",
    "tokenizer = AutoTokenizer.from_pretrained('shahrukhx01/question-vs-statement-classifier')\n",
    "model = AutoModelForSequenceClassification.from_pretrained('shahrukhx01/question-vs-statement-classifier')"
   ]
  },
  {
   "cell_type": "markdown",
   "metadata": {},
   "source": [
    "### **Loading the Data**\n",
    "\n",
    "Replace the sample data with your actual transcript data by reading from a CSV file."
   ]
  },
  {
   "cell_type": "code",
   "execution_count": 31,
   "metadata": {},
   "outputs": [
    {
     "data": {
      "text/html": [
       "<div>\n",
       "<style scoped>\n",
       "    .dataframe tbody tr th:only-of-type {\n",
       "        vertical-align: middle;\n",
       "    }\n",
       "\n",
       "    .dataframe tbody tr th {\n",
       "        vertical-align: top;\n",
       "    }\n",
       "\n",
       "    .dataframe thead th {\n",
       "        text-align: right;\n",
       "    }\n",
       "</style>\n",
       "<table border=\"1\" class=\"dataframe\">\n",
       "  <thead>\n",
       "    <tr style=\"text-align: right;\">\n",
       "      <th></th>\n",
       "      <th>Speaker</th>\n",
       "      <th>Email</th>\n",
       "      <th>Transcript</th>\n",
       "      <th>Start Time</th>\n",
       "      <th>End Time</th>\n",
       "      <th>Is Question</th>\n",
       "    </tr>\n",
       "  </thead>\n",
       "  <tbody>\n",
       "    <tr>\n",
       "      <th>0</th>\n",
       "      <td>Matthew Lopez</td>\n",
       "      <td>NaN</td>\n",
       "      <td>Hey  Joshua.</td>\n",
       "      <td>0:58.360</td>\n",
       "      <td>0:59.096</td>\n",
       "      <td>False</td>\n",
       "    </tr>\n",
       "    <tr>\n",
       "      <th>1</th>\n",
       "      <td>Matthew Lopez</td>\n",
       "      <td>NaN</td>\n",
       "      <td>How are you?</td>\n",
       "      <td>0:59.128</td>\n",
       "      <td>0:59.996</td>\n",
       "      <td>True</td>\n",
       "    </tr>\n",
       "    <tr>\n",
       "      <th>2</th>\n",
       "      <td>Joshua Lara</td>\n",
       "      <td>NaN</td>\n",
       "      <td>Hey  how's it going?</td>\n",
       "      <td>1:00.178</td>\n",
       "      <td>1:01.500</td>\n",
       "      <td>True</td>\n",
       "    </tr>\n",
       "    <tr>\n",
       "      <th>3</th>\n",
       "      <td>Matthew Lopez</td>\n",
       "      <td>NaN</td>\n",
       "      <td>Good.</td>\n",
       "      <td>1:01.650</td>\n",
       "      <td>1:02.396</td>\n",
       "      <td>False</td>\n",
       "    </tr>\n",
       "    <tr>\n",
       "      <th>4</th>\n",
       "      <td>Matthew Lopez</td>\n",
       "      <td>NaN</td>\n",
       "      <td>How about yourself?</td>\n",
       "      <td>1:02.578</td>\n",
       "      <td>1:03.804</td>\n",
       "      <td>True</td>\n",
       "    </tr>\n",
       "  </tbody>\n",
       "</table>\n",
       "</div>"
      ],
      "text/plain": [
       "         Speaker  Email            Transcript Start Time  End Time  \\\n",
       "0  Matthew Lopez    NaN          Hey  Joshua.   0:58.360  0:59.096   \n",
       "1  Matthew Lopez    NaN          How are you?   0:59.128  0:59.996   \n",
       "2    Joshua Lara    NaN  Hey  how's it going?   1:00.178  1:01.500   \n",
       "3  Matthew Lopez    NaN                 Good.   1:01.650  1:02.396   \n",
       "4  Matthew Lopez    NaN   How about yourself?   1:02.578  1:03.804   \n",
       "\n",
       "   Is Question  \n",
       "0        False  \n",
       "1         True  \n",
       "2         True  \n",
       "3        False  \n",
       "4         True  "
      ]
     },
     "execution_count": 31,
     "metadata": {},
     "output_type": "execute_result"
    }
   ],
   "source": [
    "# Load the transcript data from a CSV file\n",
    "df = pd.read_csv('sample.csv')\n",
    "\n",
    "# Create a new column in the DataFrame to store the classification results\n",
    "classifier = pipeline(\"text-classification\", model=model, tokenizer=tokenizer)\n",
    "df[\"Is Question\"] = df[\"Transcript\"].apply(lambda x: False if classifier(x)[0][\"label\"] == \"LABEL_0\" else True)\n",
    "\n",
    "# Display the first few rows of the DataFrame\n",
    "df.head()"
   ]
  },
  {
   "cell_type": "markdown",
   "metadata": {},
   "source": [
    "### **Time Conversion Function**\n",
    "\n",
    "We need to convert the time strings to total seconds for calculations."
   ]
  },
  {
   "cell_type": "code",
   "execution_count": 32,
   "metadata": {},
   "outputs": [
    {
     "data": {
      "text/html": [
       "<div>\n",
       "<style scoped>\n",
       "    .dataframe tbody tr th:only-of-type {\n",
       "        vertical-align: middle;\n",
       "    }\n",
       "\n",
       "    .dataframe tbody tr th {\n",
       "        vertical-align: top;\n",
       "    }\n",
       "\n",
       "    .dataframe thead th {\n",
       "        text-align: right;\n",
       "    }\n",
       "</style>\n",
       "<table border=\"1\" class=\"dataframe\">\n",
       "  <thead>\n",
       "    <tr style=\"text-align: right;\">\n",
       "      <th></th>\n",
       "      <th>Speaker</th>\n",
       "      <th>Email</th>\n",
       "      <th>Transcript</th>\n",
       "      <th>Start Time</th>\n",
       "      <th>End Time</th>\n",
       "      <th>Is Question</th>\n",
       "      <th>Start Seconds</th>\n",
       "      <th>End Seconds</th>\n",
       "    </tr>\n",
       "  </thead>\n",
       "  <tbody>\n",
       "    <tr>\n",
       "      <th>0</th>\n",
       "      <td>Matthew Lopez</td>\n",
       "      <td>NaN</td>\n",
       "      <td>Hey  Joshua.</td>\n",
       "      <td>0:58.360</td>\n",
       "      <td>0:59.096</td>\n",
       "      <td>False</td>\n",
       "      <td>58.360</td>\n",
       "      <td>59.096</td>\n",
       "    </tr>\n",
       "    <tr>\n",
       "      <th>1</th>\n",
       "      <td>Matthew Lopez</td>\n",
       "      <td>NaN</td>\n",
       "      <td>How are you?</td>\n",
       "      <td>0:59.128</td>\n",
       "      <td>0:59.996</td>\n",
       "      <td>True</td>\n",
       "      <td>59.128</td>\n",
       "      <td>59.996</td>\n",
       "    </tr>\n",
       "    <tr>\n",
       "      <th>2</th>\n",
       "      <td>Joshua Lara</td>\n",
       "      <td>NaN</td>\n",
       "      <td>Hey  how's it going?</td>\n",
       "      <td>1:00.178</td>\n",
       "      <td>1:01.500</td>\n",
       "      <td>True</td>\n",
       "      <td>60.178</td>\n",
       "      <td>61.500</td>\n",
       "    </tr>\n",
       "    <tr>\n",
       "      <th>3</th>\n",
       "      <td>Matthew Lopez</td>\n",
       "      <td>NaN</td>\n",
       "      <td>Good.</td>\n",
       "      <td>1:01.650</td>\n",
       "      <td>1:02.396</td>\n",
       "      <td>False</td>\n",
       "      <td>61.650</td>\n",
       "      <td>62.396</td>\n",
       "    </tr>\n",
       "    <tr>\n",
       "      <th>4</th>\n",
       "      <td>Matthew Lopez</td>\n",
       "      <td>NaN</td>\n",
       "      <td>How about yourself?</td>\n",
       "      <td>1:02.578</td>\n",
       "      <td>1:03.804</td>\n",
       "      <td>True</td>\n",
       "      <td>62.578</td>\n",
       "      <td>63.804</td>\n",
       "    </tr>\n",
       "  </tbody>\n",
       "</table>\n",
       "</div>"
      ],
      "text/plain": [
       "         Speaker  Email            Transcript Start Time  End Time  \\\n",
       "0  Matthew Lopez    NaN          Hey  Joshua.   0:58.360  0:59.096   \n",
       "1  Matthew Lopez    NaN          How are you?   0:59.128  0:59.996   \n",
       "2    Joshua Lara    NaN  Hey  how's it going?   1:00.178  1:01.500   \n",
       "3  Matthew Lopez    NaN                 Good.   1:01.650  1:02.396   \n",
       "4  Matthew Lopez    NaN   How about yourself?   1:02.578  1:03.804   \n",
       "\n",
       "   Is Question  Start Seconds  End Seconds  \n",
       "0        False         58.360       59.096  \n",
       "1         True         59.128       59.996  \n",
       "2         True         60.178       61.500  \n",
       "3        False         61.650       62.396  \n",
       "4         True         62.578       63.804  "
      ]
     },
     "execution_count": 32,
     "metadata": {},
     "output_type": "execute_result"
    }
   ],
   "source": [
    "# Function to convert time strings to seconds\n",
    "def time_to_seconds(time_str):\n",
    "    minutes, seconds = time_str.split(':')\n",
    "    return int(minutes) * 60 + float(seconds)\n",
    "\n",
    "# Apply time conversion\n",
    "df['Start Seconds'] = df['Start Time'].apply(time_to_seconds)\n",
    "df['End Seconds'] = df['End Time'].apply(time_to_seconds)\n",
    "\n",
    "df.head()"
   ]
  },
  {
   "cell_type": "markdown",
   "metadata": {},
   "source": [
    "### **Identifying Speakers**\n",
    "Identify who are the account executives and who are the clients."
   ]
  },
  {
   "cell_type": "code",
   "execution_count": 33,
   "metadata": {},
   "outputs": [
    {
     "data": {
      "text/html": [
       "<div>\n",
       "<style scoped>\n",
       "    .dataframe tbody tr th:only-of-type {\n",
       "        vertical-align: middle;\n",
       "    }\n",
       "\n",
       "    .dataframe tbody tr th {\n",
       "        vertical-align: top;\n",
       "    }\n",
       "\n",
       "    .dataframe thead th {\n",
       "        text-align: right;\n",
       "    }\n",
       "</style>\n",
       "<table border=\"1\" class=\"dataframe\">\n",
       "  <thead>\n",
       "    <tr style=\"text-align: right;\">\n",
       "      <th></th>\n",
       "      <th>Speaker</th>\n",
       "      <th>Email</th>\n",
       "      <th>Transcript</th>\n",
       "      <th>Start Time</th>\n",
       "      <th>End Time</th>\n",
       "      <th>Is Question</th>\n",
       "      <th>Start Seconds</th>\n",
       "      <th>End Seconds</th>\n",
       "      <th>Is Account Executive</th>\n",
       "    </tr>\n",
       "  </thead>\n",
       "  <tbody>\n",
       "    <tr>\n",
       "      <th>0</th>\n",
       "      <td>Matthew Lopez</td>\n",
       "      <td>NaN</td>\n",
       "      <td>Hey  Joshua.</td>\n",
       "      <td>0:58.360</td>\n",
       "      <td>0:59.096</td>\n",
       "      <td>False</td>\n",
       "      <td>58.360</td>\n",
       "      <td>59.096</td>\n",
       "      <td>True</td>\n",
       "    </tr>\n",
       "    <tr>\n",
       "      <th>1</th>\n",
       "      <td>Matthew Lopez</td>\n",
       "      <td>NaN</td>\n",
       "      <td>How are you?</td>\n",
       "      <td>0:59.128</td>\n",
       "      <td>0:59.996</td>\n",
       "      <td>True</td>\n",
       "      <td>59.128</td>\n",
       "      <td>59.996</td>\n",
       "      <td>True</td>\n",
       "    </tr>\n",
       "    <tr>\n",
       "      <th>2</th>\n",
       "      <td>Joshua Lara</td>\n",
       "      <td>NaN</td>\n",
       "      <td>Hey  how's it going?</td>\n",
       "      <td>1:00.178</td>\n",
       "      <td>1:01.500</td>\n",
       "      <td>True</td>\n",
       "      <td>60.178</td>\n",
       "      <td>61.500</td>\n",
       "      <td>False</td>\n",
       "    </tr>\n",
       "    <tr>\n",
       "      <th>3</th>\n",
       "      <td>Matthew Lopez</td>\n",
       "      <td>NaN</td>\n",
       "      <td>Good.</td>\n",
       "      <td>1:01.650</td>\n",
       "      <td>1:02.396</td>\n",
       "      <td>False</td>\n",
       "      <td>61.650</td>\n",
       "      <td>62.396</td>\n",
       "      <td>True</td>\n",
       "    </tr>\n",
       "    <tr>\n",
       "      <th>4</th>\n",
       "      <td>Matthew Lopez</td>\n",
       "      <td>NaN</td>\n",
       "      <td>How about yourself?</td>\n",
       "      <td>1:02.578</td>\n",
       "      <td>1:03.804</td>\n",
       "      <td>True</td>\n",
       "      <td>62.578</td>\n",
       "      <td>63.804</td>\n",
       "      <td>True</td>\n",
       "    </tr>\n",
       "  </tbody>\n",
       "</table>\n",
       "</div>"
      ],
      "text/plain": [
       "         Speaker  Email            Transcript Start Time  End Time  \\\n",
       "0  Matthew Lopez    NaN          Hey  Joshua.   0:58.360  0:59.096   \n",
       "1  Matthew Lopez    NaN          How are you?   0:59.128  0:59.996   \n",
       "2    Joshua Lara    NaN  Hey  how's it going?   1:00.178  1:01.500   \n",
       "3  Matthew Lopez    NaN                 Good.   1:01.650  1:02.396   \n",
       "4  Matthew Lopez    NaN   How about yourself?   1:02.578  1:03.804   \n",
       "\n",
       "   Is Question  Start Seconds  End Seconds  Is Account Executive  \n",
       "0        False         58.360       59.096                  True  \n",
       "1         True         59.128       59.996                  True  \n",
       "2         True         60.178       61.500                 False  \n",
       "3        False         61.650       62.396                  True  \n",
       "4         True         62.578       63.804                  True  "
      ]
     },
     "execution_count": 33,
     "metadata": {},
     "output_type": "execute_result"
    }
   ],
   "source": [
    "account_executives = [\"Shawn Henderson\", \"Matthew Lopez\"] # List of account executives\n",
    "df[\"Is Account Executive\"] = df[\"Speaker\"].apply(lambda x: True if x in account_executives else False)\n",
    "\n",
    "df.head()"
   ]
  },
  {
   "cell_type": "markdown",
   "metadata": {},
   "source": [
    "### **Filtering Data by Speaker**\n",
    "\n",
    "Separate the DataFrame into salesperson and customer DataFrames."
   ]
  },
  {
   "cell_type": "code",
   "execution_count": 50,
   "metadata": {},
   "outputs": [
    {
     "data": {
      "text/html": [
       "<div>\n",
       "<style scoped>\n",
       "    .dataframe tbody tr th:only-of-type {\n",
       "        vertical-align: middle;\n",
       "    }\n",
       "\n",
       "    .dataframe tbody tr th {\n",
       "        vertical-align: top;\n",
       "    }\n",
       "\n",
       "    .dataframe thead th {\n",
       "        text-align: right;\n",
       "    }\n",
       "</style>\n",
       "<table border=\"1\" class=\"dataframe\">\n",
       "  <thead>\n",
       "    <tr style=\"text-align: right;\">\n",
       "      <th></th>\n",
       "      <th>Speaker</th>\n",
       "      <th>Email</th>\n",
       "      <th>Transcript</th>\n",
       "      <th>Start Time</th>\n",
       "      <th>End Time</th>\n",
       "      <th>Is Question</th>\n",
       "      <th>Start Seconds</th>\n",
       "      <th>End Seconds</th>\n",
       "      <th>Is Account Executive</th>\n",
       "    </tr>\n",
       "  </thead>\n",
       "  <tbody>\n",
       "    <tr>\n",
       "      <th>2</th>\n",
       "      <td>Joshua Lara</td>\n",
       "      <td>NaN</td>\n",
       "      <td>Hey  how's it going?</td>\n",
       "      <td>1:00.178</td>\n",
       "      <td>1:01.500</td>\n",
       "      <td>True</td>\n",
       "      <td>60.178</td>\n",
       "      <td>61.5</td>\n",
       "      <td>False</td>\n",
       "    </tr>\n",
       "    <tr>\n",
       "      <th>235</th>\n",
       "      <td>Joshua Lara</td>\n",
       "      <td>NaN</td>\n",
       "      <td>So I guess in terms of what services you would...</td>\n",
       "      <td>21:00.590</td>\n",
       "      <td>21:08.400</td>\n",
       "      <td>True</td>\n",
       "      <td>1260.590</td>\n",
       "      <td>1268.4</td>\n",
       "      <td>False</td>\n",
       "    </tr>\n",
       "  </tbody>\n",
       "</table>\n",
       "</div>"
      ],
      "text/plain": [
       "         Speaker  Email                                         Transcript  \\\n",
       "2    Joshua Lara    NaN                               Hey  how's it going?   \n",
       "235  Joshua Lara    NaN  So I guess in terms of what services you would...   \n",
       "\n",
       "    Start Time   End Time  Is Question  Start Seconds  End Seconds  \\\n",
       "2     1:00.178   1:01.500         True         60.178         61.5   \n",
       "235  21:00.590  21:08.400         True       1260.590       1268.4   \n",
       "\n",
       "     Is Account Executive  \n",
       "2                   False  \n",
       "235                 False  "
      ]
     },
     "execution_count": 50,
     "metadata": {},
     "output_type": "execute_result"
    }
   ],
   "source": [
    "# Filter salesperson's utterances\n",
    "ae_df = df[(df['Is Account Executive'] & df['Is Question'])].copy()\n",
    "customer_df = df[(~df['Is Account Executive'] & df['Is Question'])].copy()"
   ]
  },
  {
   "cell_type": "markdown",
   "metadata": {},
   "source": [
    "---\n",
    "\n",
    "## **2. Calculating Metrics**\n",
    "\n",
    "### **2.1 Total Number of Questions**\n",
    "\n",
    "**Purpose**: Basic measure of engagement.\n",
    "\n",
    "**Calculation**: Sum of the 'Is Question?' column for the salesperson's entries."
   ]
  },
  {
   "cell_type": "code",
   "execution_count": 35,
   "metadata": {},
   "outputs": [
    {
     "name": "stdout",
     "output_type": "stream",
     "text": [
      "Total Number of Questions: 28\n"
     ]
    }
   ],
   "source": [
    "# Total Number of Questions\n",
    "total_questions = ae_df['Is Question'].sum()\n",
    "print(\"Total Number of Questions:\", total_questions)"
   ]
  },
  {
   "cell_type": "markdown",
   "metadata": {},
   "source": [
    "### **2.2 Questions per Minute**\n",
    "\n",
    "**Purpose**: Normalizes total questions by call length.\n",
    "\n",
    "**Calculation**: Total questions divided by the call duration in minutes."
   ]
  },
  {
   "cell_type": "code",
   "execution_count": 36,
   "metadata": {},
   "outputs": [
    {
     "name": "stdout",
     "output_type": "stream",
     "text": [
      "Questions per Minute: 1.03\n"
     ]
    }
   ],
   "source": [
    "# Calculate total call duration in seconds\n",
    "call_start = df['Start Seconds'].min()\n",
    "call_end = df['End Seconds'].max()\n",
    "call_duration_seconds = call_end - call_start\n",
    "call_duration_minutes = call_duration_seconds / 60\n",
    "\n",
    "# Questions per Minute\n",
    "questions_per_minute = total_questions / call_duration_minutes if call_duration_minutes > 0 else 0\n",
    "print(\"Questions per Minute:\", round(questions_per_minute, 2))"
   ]
  },
  {
   "cell_type": "markdown",
   "metadata": {},
   "source": [
    "### **2.3 First Question Timing**\n",
    "\n",
    "**Purpose**: Measures how quickly the salesperson engages the customer.\n",
    "\n",
    "**Calculation**: Time of the first question as a percentage of the total call duration."
   ]
  },
  {
   "cell_type": "code",
   "execution_count": 37,
   "metadata": {},
   "outputs": [
    {
     "name": "stdout",
     "output_type": "stream",
     "text": [
      "First Question Timing (% of Call Duration): 0.05\n"
     ]
    }
   ],
   "source": [
    "# First Question Timing\n",
    "first_question_time = ae_df[ae_df['Is Question'] == True]['Start Seconds'].min()\n",
    "if not np.isnan(first_question_time):\n",
    "    first_question_timing = ((first_question_time - call_start) / call_duration_seconds) * 100\n",
    "    print(\"First Question Timing (% of Call Duration):\", round(first_question_timing, 2))\n",
    "else:\n",
    "    print(\"First Question Timing (% of Call Duration): No questions asked\")"
   ]
  },
  {
   "cell_type": "markdown",
   "metadata": {},
   "source": [
    "### **2.4 Normalized Entropy**\n",
    "\n",
    "**Purpose**: Primary metric for evenness of distribution.\n",
    "\n",
    "**Calculation**:\n",
    "\n",
    "1. Divide the call into equal segments.\n",
    "2. Count the number of questions in each segment.\n",
    "3. Calculate the entropy and normalize it."
   ]
  },
  {
   "cell_type": "code",
   "execution_count": 38,
   "metadata": {},
   "outputs": [
    {
     "name": "stdout",
     "output_type": "stream",
     "text": [
      "Normalized Entropy: 0.69\n"
     ]
    }
   ],
   "source": [
    "# Number of segments\n",
    "num_segments = 10\n",
    "segment_duration = call_duration_seconds / num_segments\n",
    "\n",
    "# Initialize question counts per segment\n",
    "questions_per_segment = [0] * num_segments\n",
    "\n",
    "# Assign each question to a segment\n",
    "for index, row in ae_df[ae_df['Is Question'] == True].iterrows():\n",
    "    time_since_start = row['Start Seconds'] - call_start\n",
    "    segment_index = int(time_since_start // segment_duration)\n",
    "    if segment_index >= num_segments:\n",
    "        segment_index = num_segments - 1  # Handle edge case\n",
    "    questions_per_segment[segment_index] += 1\n",
    "\n",
    "# Calculate probabilities\n",
    "total_questions_in_segments = sum(questions_per_segment)\n",
    "if total_questions_in_segments > 0:\n",
    "    probabilities = [q / total_questions_in_segments for q in questions_per_segment]\n",
    "    # Calculate entropy\n",
    "    entropy = -sum([p * np.log2(p) for p in probabilities if p > 0])\n",
    "    # Normalize entropy\n",
    "    max_entropy = np.log2(num_segments)\n",
    "    normalized_entropy = entropy / max_entropy if max_entropy > 0 else 0\n",
    "    print(\"Normalized Entropy:\", round(normalized_entropy, 2))\n",
    "else:\n",
    "    print(\"Normalized Entropy: No questions asked\")"
   ]
  },
  {
   "cell_type": "markdown",
   "metadata": {},
   "source": [
    "### **2.5 Gini Coefficient**\n",
    "\n",
    "**Purpose**: Secondary metric to assess inequality.\n",
    "\n",
    "**Calculation**: Using the Gini coefficient formula on the distribution of questions per segment."
   ]
  },
  {
   "cell_type": "code",
   "execution_count": 39,
   "metadata": {},
   "outputs": [
    {
     "name": "stdout",
     "output_type": "stream",
     "text": [
      "Gini Coefficient: 0.61\n"
     ]
    }
   ],
   "source": [
    "# Gini Coefficient Function\n",
    "def gini_coefficient(x):\n",
    "    x = np.array(x, dtype=np.float64)  # Ensure x is of type float\n",
    "    if np.amin(x) < 0:\n",
    "        x -= np.amin(x)  # Values cannot be negative\n",
    "    x += 0.0000001  # Avoid division by zero\n",
    "    x = np.sort(x)\n",
    "    n = x.size\n",
    "    index = np.arange(1, n + 1)\n",
    "    gini = ((np.sum((2 * index - n - 1) * x)) / (n * np.sum(x)))\n",
    "    return gini\n",
    "\n",
    "# Calculate Gini Coefficient\n",
    "if total_questions_in_segments > 0:\n",
    "    gini = gini_coefficient(questions_per_segment)\n",
    "    print(\"Gini Coefficient:\", round(gini, 2))\n",
    "else:\n",
    "    print(\"Gini Coefficient: No questions asked\")"
   ]
  },
  {
   "cell_type": "markdown",
   "metadata": {},
   "source": [
    "### **2.6 Customer Talk Ratio**\n",
    "\n",
    "**Purpose**: Measures the balance of conversation.\n",
    "\n",
    "**Calculation**: Percentage of total talk time attributed to the customer."
   ]
  },
  {
   "cell_type": "code",
   "execution_count": 40,
   "metadata": {},
   "outputs": [
    {
     "name": "stdout",
     "output_type": "stream",
     "text": [
      "Customer Talk Ratio (%): 10.66\n"
     ]
    }
   ],
   "source": [
    "# Calculate total speaking time for salesperson and customer\n",
    "salesperson_talk_time = ae_df['End Seconds'].sum() - ae_df['Start Seconds'].sum()\n",
    "customer_talk_time = customer_df['End Seconds'].sum() - customer_df['Start Seconds'].sum()\n",
    "\n",
    "total_talk_time = salesperson_talk_time + customer_talk_time\n",
    "if total_talk_time > 0:\n",
    "    customer_talk_ratio = (customer_talk_time / total_talk_time) * 100\n",
    "    print(\"Customer Talk Ratio (%):\", round(customer_talk_ratio, 2))\n",
    "else:\n",
    "    print(\"Customer Talk Ratio (%): No talk time recorded\")"
   ]
  },
  {
   "cell_type": "markdown",
   "metadata": {},
   "source": [
    "### **2.7 Average Time Between Questions (Normalized)**\n",
    "\n",
    "**Purpose**: Assesses pacing of questions.\n",
    "\n",
    "**Calculation**: Average time between questions as a percentage of the total call duration."
   ]
  },
  {
   "cell_type": "code",
   "execution_count": 41,
   "metadata": {},
   "outputs": [
    {
     "name": "stdout",
     "output_type": "stream",
     "text": [
      "Average Time Between Questions (Normalized % of Call Duration): 3.07\n"
     ]
    }
   ],
   "source": [
    "# Average Time Between Questions (Normalized)\n",
    "question_times = ae_df[ae_df['Is Question'] == True]['Start Seconds'].tolist()\n",
    "if len(question_times) > 1:\n",
    "    intervals = [t2 - t1 for t1, t2 in zip(question_times[:-1], question_times[1:])]\n",
    "    average_interval = np.mean(intervals)\n",
    "    normalized_average_interval = (average_interval / call_duration_seconds) * 100\n",
    "    print(\"Average Time Between Questions (Normalized % of Call Duration):\", round(normalized_average_interval, 2))\n",
    "elif len(question_times) == 1:\n",
    "    print(\"Average Time Between Questions (Normalized % of Call Duration): Only one question asked\")\n",
    "else:\n",
    "    print(\"Average Time Between Questions (Normalized % of Call Duration): No questions asked\")"
   ]
  },
  {
   "cell_type": "markdown",
   "metadata": {},
   "source": [
    "\n",
    "---\n",
    "\n",
    "## **3. Summary of Metrics**\n",
    "\n",
    "Compile all the calculated metrics into a summary for easy reference."
   ]
  },
  {
   "cell_type": "code",
   "execution_count": 42,
   "metadata": {},
   "outputs": [
    {
     "name": "stdout",
     "output_type": "stream",
     "text": [
      "Total Number of Questions: 28\n",
      "Questions per Minute: 1.03\n",
      "First Question Timing (% of Call Duration): 0.05\n",
      "Normalized Entropy: 0.69\n",
      "Gini Coefficient: 0.61\n",
      "Customer Talk Ratio (%): 10.66\n",
      "Average Time Between Questions (Normalized % of Call Duration): 3.07\n"
     ]
    }
   ],
   "source": [
    "# Create a summary dictionary\n",
    "metrics_summary = {\n",
    "    'Total Number of Questions': total_questions,\n",
    "    'Questions per Minute': round(questions_per_minute, 2),\n",
    "    'First Question Timing (% of Call Duration)': round(first_question_timing, 2) if not np.isnan(first_question_time) else 'No questions asked',\n",
    "    'Normalized Entropy': round(normalized_entropy, 2) if total_questions_in_segments > 0 else 'No questions asked',\n",
    "    'Gini Coefficient': round(gini, 2) if total_questions_in_segments > 0 else 'No questions asked',\n",
    "    'Customer Talk Ratio (%)': round(customer_talk_ratio, 2) if total_talk_time > 0 else 'No talk time recorded',\n",
    "    'Average Time Between Questions (Normalized % of Call Duration)': round(normalized_average_interval, 2) if len(question_times) > 1 else 'Not applicable'\n",
    "}\n",
    "\n",
    "# Display the summary\n",
    "for metric, value in metrics_summary.items():\n",
    "    print(f\"{metric}: {value}\")"
   ]
  },
  {
   "cell_type": "markdown",
   "metadata": {},
   "source": [
    "\n",
    "---\n",
    "\n",
    "## **4. Interpretation of Results**\n",
    "\n",
    "Based on the calculated metrics, you can interpret the salesperson's performance and customer engagement during the call.\n",
    "\n",
    "- **Total Number of Questions**: Indicates how actively the salesperson is engaging the customer by asking questions.\n",
    "- **Questions per Minute**: Normalizes the question count by call length; higher values suggest more frequent engagement.\n",
    "- **First Question Timing**: Early questioning can help in building rapport and understanding customer needs promptly.\n",
    "- **Normalized Entropy**: Values closer to 1 suggest that questions are evenly distributed throughout the call, maintaining consistent engagement.\n",
    "- **Gini Coefficient**: Lower values indicate a more equal distribution of questions; higher values suggest clustering.\n",
    "- **Customer Talk Ratio**: A higher percentage means the customer is contributing more to the conversation, which is often positive in sales contexts.\n",
    "- **Average Time Between Questions (Normalized)**: Helps assess if questions are too clustered (low percentage) or too sparse (high percentage).\n",
    "\n",
    "**Table: Metrics, Sample Values, and Interpretations**\n",
    "\n",
    "| Metric                                      | Sample Value(s)              | Interpretation                                                                                                                                                                                                                 |\n",
    "|---------------------------------------------|------------------------------|--------------------------------------------------------------------------------------------------------------------------------------------------------------------------------------------------------------------------------|\n",
    "| **Total Number of Questions**               | **5**, **15**                | - **5**: Salesperson asked few questions; may indicate low engagement.<br>- **15**: Salesperson asked many questions; suggests high engagement.                                                                                |\n",
    "| **Questions per Minute**                    | **0.5**, **3.0**             | - **0.5**: Low frequency of questions; possible missed opportunities to engage.<br>- **3.0**: High frequency; salesperson is actively engaging the customer.                                                                   |\n",
    "| **First Question Timing (% of Call Duration)** | **5%**, **30%**            | - **5%**: Salesperson asked the first question early; promotes early engagement.<br>- **30%**: Delay in asking first question; potential missed opportunity for early rapport building.                                        |\n",
    "| **Normalized Entropy**                      | **0.2**, **0.9**             | - **0.2**: Low entropy; questions are unevenly distributed (clustered in certain segments). Indicates that the questions are clustered in certain parts of the call, leading to periods of low engagement elsewhere.<br>- **0.9**: High entropy; questions are evenly distributed throughout the call, maintaining consistent engagement. Shows that questions are evenly distributed throughout the call, helping to maintain consistent customer engagement.            |\n",
    "| **Gini Coefficient**                        | **0.1**, **0.6**             | - **0.1**: Low inequality; questions are evenly spread across the call. Reflects a very equal distribution of questions across the call segments, which is positive for maintaining engagement.<br>- **0.6**: High inequality; questions are concentrated in a few segments, leading to potential disengagement in other parts of the call. Suggests significant inequality in question distribution, with questions likely clustered in specific segments, potentially leading to disengagement during other parts.         |\n",
    "| **Customer Talk Ratio (%)**                 | **25%**, **65%**             | - **25%**: Customer speaks less; salesperson may be dominating the conversation.<br>- **65%**: Customer speaks more; indicates a customer-centric approach, allowing the customer to express needs and preferences.            |\n",
    "| **Average Time Between Questions (Normalized % of Call Duration)** | **10%**, **40%** | - **10%**: Questions are frequent and closely spaced; maintains high engagement.<br>- **40%**: Longer gaps between questions; possible periods of low engagement or missed opportunities to probe further. |\n",
    "\n",
    "\n",
    "---\n",
    "\n",
    "## **5. Visualizing the Distribution of Questions**\n",
    "\n",
    "(Optional) You can create visualizations to better understand the distribution of questions throughout the call.\n",
    "\n",
    "### **Bar Chart of Questions per Segment**"
   ]
  },
  {
   "cell_type": "code",
   "execution_count": 45,
   "metadata": {},
   "outputs": [
    {
     "data": {
      "image/png": "[encoded data removed]",
      "text/plain": [
       "<Figure size 640x480 with 1 Axes>"
      ]
     },
     "metadata": {},
     "output_type": "display_data"
    }
   ],
   "source": [
    "import matplotlib.pyplot as plt\n",
    "\n",
    "# Bar chart of questions per segment\n",
    "segments = [f\"S{i+1}\" for i in range(num_segments)]\n",
    "\n",
    "plt.bar(segments, questions_per_segment, color='skyblue')\n",
    "plt.xlabel('Segments')\n",
    "plt.ylabel('Number of Questions')\n",
    "plt.title('Distribution of Questions Across Segments')\n",
    "plt.show()"
   ]
  },
  {
   "cell_type": "markdown",
   "metadata": {},
   "source": [
    "\n",
    "### **Pie Chart of Customer vs. Salesperson Talk Time**"
   ]
  },
  {
   "cell_type": "code",
   "execution_count": 51,
   "metadata": {},
   "outputs": [
    {
     "data": {
      "image/png": "[encoded data removed]",
      "text/plain": [
       "<Figure size 640x480 with 1 Axes>"
      ]
     },
     "metadata": {},
     "output_type": "display_data"
    }
   ],
   "source": [
    "# Pie chart of talk time\n",
    "talk_times = [salesperson_talk_time, customer_talk_time]\n",
    "labels = ['Account Executive', 'Customer']\n",
    "colors = ['aqua', 'lightcoral']\n",
    "\n",
    "plt.pie(talk_times, labels=labels, colors=colors, autopct='%1.1f%%', startangle=140)\n",
    "plt.title('Question Time Distribution')\n",
    "plt.axis('equal')  # Equal aspect ratio ensures that pie is drawn as a circle.\n",
    "plt.show()"
   ]
  },
  {
   "cell_type": "markdown",
   "metadata": {},
   "source": [
    "\n",
    "---\n",
    "\n",
    "## **6. Conclusion**\n",
    "\n",
    "This notebook provides a framework for analyzing sales call transcripts to extract meaningful metrics that reflect the salesperson's engagement strategies and the dynamics of the conversation. By regularly monitoring these metrics, sales teams can identify areas for improvement and enhance their interactions with customers."
   ]
  }
 ],
 "metadata": {
  "kernelspec": {
   "display_name": "Python 3",
   "language": "python",
   "name": "python3"
  },
  "language_info": {
   "codemirror_mode": {
    "name": "ipython",
    "version": 3
   },
   "file_extension": ".py",
   "mimetype": "text/x-python",
   "name": "python",
   "nbconvert_exporter": "python",
   "pygments_lexer": "ipython3",
   "version": "3.8.10"
  }
 },
 "nbformat": 4,
 "nbformat_minor": 2
}
